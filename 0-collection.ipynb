{
 "cells": [
  {
   "cell_type": "markdown",
   "id": "a9a4c275-01ad-4c19-a4f9-1b0537112a86",
   "metadata": {},
   "source": [
    "# Data collection\n",
    "\n",
    "In this notebook we will collect the data for the Google Analytics Capstone project. We choose to analize data from a YouTube Channel.\n",
    "\n",
    "So the aim of this notebook is to create a dataset with the following columns:\n",
    "\n",
    "| Variable | Description | Notes |\n",
    "| --- | --- | --- |\n",
    "| `id` | YouTube video id | |\n",
    "| `title` | Title of the video | At the time of extraction<br>I've noticed that some titles change perhaps due to A/B tests |\n",
    "| `published_at` | Date of publication | |\n",
    "| `description` | Video description | At the time of extraction |\n",
    "| `tags` | Video tags | AFAIK this is not displayed at the front-end |\n",
    "| `thumbnail` | Thumbnail url | At the time of extraction |\n",
    "| `duration` | Video duration | ISO 8601 duration string |\n",
    "| `view_count` | Number of views | At the time of extraction |\n",
    "| `like_count` | Number of likes | At the time of extraction |\n",
    "| `comment_count` | Number of comments | At the time of extraction |\n",
    "| `transcription` | Video transcription | Needs to be parsed |"
   ]
  },
  {
   "cell_type": "code",
   "execution_count": 1,
   "id": "984422e8-79e2-4db1-ad13-5b8ed632fc8c",
   "metadata": {},
   "outputs": [],
   "source": [
    "import requests\n",
    "import pickle\n",
    "import pandas as pd\n",
    "\n",
    "from dotenv import dotenv_values\n",
    "from tqdm import tqdm\n",
    "from urllib.parse import urlparse, parse_qs\n",
    "from IPython.display import JSON\n",
    "\n",
    "from selenium import webdriver\n",
    "from selenium.webdriver.chrome.service import Service\n",
    "from selenium.webdriver.common.by import By\n",
    "from webdriver_manager.chrome import ChromeDriverManager\n",
    "\n",
    "from youtube_transcript_api import YouTubeTranscriptApi"
   ]
  },
  {
   "cell_type": "markdown",
   "id": "6bc149c9-765d-4afe-8f69-02d564162875",
   "metadata": {},
   "source": [
    "# Video information\n",
    "\n",
    "The first thing we will do is setup for the use of the YouTube Data V3 API.\n",
    "\n",
    "You need to populate the `.env` file with your [API key](https://developers.google.com/youtube/v3)."
   ]
  },
  {
   "cell_type": "code",
   "execution_count": 2,
   "id": "17610875-1d95-49e8-affe-2afb1b60f3dd",
   "metadata": {},
   "outputs": [],
   "source": [
    "env = dotenv_values('.env')\n",
    "\n",
    "api_key = env.get('DATA-V3')\n",
    "\n",
    "base_api = 'https://www.googleapis.com/youtube/v3'\n",
    "videos_api = lambda id: f'{base_api}/videos?key={api_key}&id={id}&part=id,snippet,contentDetails,statistics'"
   ]
  },
  {
   "cell_type": "markdown",
   "id": "cc058d11-ce64-4bd1-beb3-63b896d1c582",
   "metadata": {},
   "source": [
    "## Sample request\n",
    "\n",
    "Note: we can send multiple ids per request, [apparently](https://stackoverflow.com/questions/36370821/does-youtube-v3-data-api-have-a-limit-to-the-number-of-ids-you-can-send-to-vide) the max is 50."
   ]
  },
  {
   "cell_type": "code",
   "execution_count": 3,
   "id": "a9587b2b-1eba-48d3-af4a-93d836470648",
   "metadata": {},
   "outputs": [
    {
     "data": {
      "application/json": {
       "etag": "5lxm0vuVBIbPbtLFD20wEi5KchU",
       "items": [
        {
         "contentDetails": {
          "caption": "false",
          "contentRating": {},
          "definition": "hd",
          "dimension": "2d",
          "duration": "PT14M39S",
          "licensedContent": true,
          "projection": "rectangular"
         },
         "etag": "3dP0q58C6dSeyqbWZgewLMtqnrk",
         "id": "-n8N62DeNDU",
         "kind": "youtube#video",
         "snippet": {
          "categoryId": "28",
          "channelId": "UCXuqSBlHAE6Xw-yeJA0Tunw",
          "channelTitle": "Linus Tech Tips",
          "defaultAudioLanguage": "en",
          "defaultLanguage": "en",
          "description": "Checkout iFixit's toolkits at: https://www.iFixit.com/LTT\n\nThe Thermaltake Smart 600W is the most popular power supply on Amazon... but that doesn't mean it is good.\n\nDiscuss on the forum: https://linustechtips.com/topic/1518710-why-is-everyone-buying-this-power-supply/\n\nBuy an EVGA 450 BR PSU: https://geni.us/qAuje2\nBuy a Seasonic Prime TX 650 PSU: https://geni.us/yq4g\nBuy a Thermaltake Smart 600W PSU: https://geni.us/ODPQMM\nBuy a Corsair SF450 PSU: https://geni.us/ompP\n\nPurchases made through some store links may provide some compensation to Linus Media Group.\n\n► GET MERCH: https://lttstore.com\n► LTX 2023 TICKETS AVAILABLE NOW: https://lmg.gg/ltx23\n► GET EXCLUSIVE CONTENT ON FLOATPLANE: https://lmg.gg/lttfloatplane\n► SPONSORS, AFFILIATES, AND PARTNERS: https://lmg.gg/partners\n► EQUIPMENT WE USE TO FILM LTT: https://lmg.gg/LTTEquipment\n► OUR WAN PODCAST GEAR: https://lmg.gg/wanset\n\nFOLLOW US \n---------------------------------------------------  \nTwitter: https://twitter.com/linustech\nFacebook: http://www.facebook.com/LinusTech\nInstagram: https://www.instagram.com/linustech\nTikTok: https://www.tiktok.com/@linustech\nTwitch: https://www.twitch.tv/linustech\n\nMUSIC CREDIT\n---------------------------------------------------\nIntro: Laszlo - Supernova\nVideo Link: https://www.youtube.com/watch?v=PKfxmFU3lWY\niTunes Download Link: https://itunes.apple.com/us/album/supernova/id936805712\nArtist Link: https://soundcloud.com/laszlomusic\n\nOutro: Approaching Nirvana - Sugar High\nVideo Link: https://www.youtube.com/watch?v=ngsGBSCDwcI\nListen on Spotify: http://spoti.fi/UxWkUw\nArtist Link: http://www.youtube.com/approachingnirvana\n\nIntro animation by MBarek Abdelwassaa https://www.instagram.com/mbarek_abdel/\nMonitor And Keyboard by vadimmihalkevich / CC BY 4.0  https://geni.us/PgGWp\nMechanical RGB Keyboard by BigBrotherECE / CC BY 4.0 https://geni.us/mj6pHk4\nMouse Gamer free Model By Oscar Creativo / CC BY 4.0 https://geni.us/Ps3XfE\n\nCHAPTERS\n---------------------------------------------------\n0:00 - Intro\n1:04 - iFixIt!\n1:09 - PSU Tester Update\n3:46 - What we can learn from the box\n5:27 - Efficency Test\n5:57 - Short Circuit Test\n7:00 - Over Current and Over Power Protections\n9:10 - Power Factor Correction\n11:55 - What else we can test\n13:45 - iFixIt!\n14:29 - Outro",
          "liveBroadcastContent": "none",
          "localized": {
           "description": "Checkout iFixit's toolkits at: https://www.iFixit.com/LTT\n\nThe Thermaltake Smart 600W is the most popular power supply on Amazon... but that doesn't mean it is good.\n\nDiscuss on the forum: https://linustechtips.com/topic/1518710-why-is-everyone-buying-this-power-supply/\n\nBuy an EVGA 450 BR PSU: https://geni.us/qAuje2\nBuy a Seasonic Prime TX 650 PSU: https://geni.us/yq4g\nBuy a Thermaltake Smart 600W PSU: https://geni.us/ODPQMM\nBuy a Corsair SF450 PSU: https://geni.us/ompP\n\nPurchases made through some store links may provide some compensation to Linus Media Group.\n\n► GET MERCH: https://lttstore.com\n► LTX 2023 TICKETS AVAILABLE NOW: https://lmg.gg/ltx23\n► GET EXCLUSIVE CONTENT ON FLOATPLANE: https://lmg.gg/lttfloatplane\n► SPONSORS, AFFILIATES, AND PARTNERS: https://lmg.gg/partners\n► EQUIPMENT WE USE TO FILM LTT: https://lmg.gg/LTTEquipment\n► OUR WAN PODCAST GEAR: https://lmg.gg/wanset\n\nFOLLOW US \n---------------------------------------------------  \nTwitter: https://twitter.com/linustech\nFacebook: http://www.facebook.com/LinusTech\nInstagram: https://www.instagram.com/linustech\nTikTok: https://www.tiktok.com/@linustech\nTwitch: https://www.twitch.tv/linustech\n\nMUSIC CREDIT\n---------------------------------------------------\nIntro: Laszlo - Supernova\nVideo Link: https://www.youtube.com/watch?v=PKfxmFU3lWY\niTunes Download Link: https://itunes.apple.com/us/album/supernova/id936805712\nArtist Link: https://soundcloud.com/laszlomusic\n\nOutro: Approaching Nirvana - Sugar High\nVideo Link: https://www.youtube.com/watch?v=ngsGBSCDwcI\nListen on Spotify: http://spoti.fi/UxWkUw\nArtist Link: http://www.youtube.com/approachingnirvana\n\nIntro animation by MBarek Abdelwassaa https://www.instagram.com/mbarek_abdel/\nMonitor And Keyboard by vadimmihalkevich / CC BY 4.0  https://geni.us/PgGWp\nMechanical RGB Keyboard by BigBrotherECE / CC BY 4.0 https://geni.us/mj6pHk4\nMouse Gamer free Model By Oscar Creativo / CC BY 4.0 https://geni.us/Ps3XfE\n\nCHAPTERS\n---------------------------------------------------\n0:00 - Intro\n1:04 - iFixIt!\n1:09 - PSU Tester Update\n3:46 - What we can learn from the box\n5:27 - Efficency Test\n5:57 - Short Circuit Test\n7:00 - Over Current and Over Power Protections\n9:10 - Power Factor Correction\n11:55 - What else we can test\n13:45 - iFixIt!\n14:29 - Outro",
           "title": "WHY is Everyone Buying This Power Supply??"
          },
          "publishedAt": "2023-07-11T17:03:27Z",
          "tags": [
           "Power Supply",
           "PSU Tester",
           "Thermaltake Smart 600W",
           "EVGA 400 N1",
           "EVGA BR 450",
           "Seasonic TX 650"
          ],
          "thumbnails": {
           "default": {
            "height": 90,
            "url": "https://i.ytimg.com/vi/-n8N62DeNDU/default.jpg",
            "width": 120
           },
           "high": {
            "height": 360,
            "url": "https://i.ytimg.com/vi/-n8N62DeNDU/hqdefault.jpg",
            "width": 480
           },
           "maxres": {
            "height": 720,
            "url": "https://i.ytimg.com/vi/-n8N62DeNDU/maxresdefault.jpg",
            "width": 1280
           },
           "medium": {
            "height": 180,
            "url": "https://i.ytimg.com/vi/-n8N62DeNDU/mqdefault.jpg",
            "width": 320
           },
           "standard": {
            "height": 480,
            "url": "https://i.ytimg.com/vi/-n8N62DeNDU/sddefault.jpg",
            "width": 640
           }
          },
          "title": "WHY is Everyone Buying This Power Supply??"
         },
         "statistics": {
          "commentCount": "2983",
          "favoriteCount": "0",
          "likeCount": "51860",
          "viewCount": "1116348"
         }
        }
       ],
       "kind": "youtube#videoListResponse",
       "pageInfo": {
        "resultsPerPage": 1,
        "totalResults": 1
       }
      },
      "text/plain": [
       "<IPython.core.display.JSON object>"
      ]
     },
     "execution_count": 3,
     "metadata": {
      "application/json": {
       "expanded": false,
       "root": "root"
      }
     },
     "output_type": "execute_result"
    }
   ],
   "source": [
    "response = requests.get(videos_api('-n8N62DeNDU'))\n",
    "\n",
    "JSON(response.json())"
   ]
  },
  {
   "cell_type": "markdown",
   "id": "0ac224ad-dc36-40ba-bbb1-da75a8c8d27c",
   "metadata": {},
   "source": [
    "After looking at the sample structure, we choose to capture the following for each video:\n",
    "\n",
    "- `snippet.title`\n",
    "- `snipper.publishedAt`\n",
    "- `snippet.description`\n",
    "- `snippet.tags`\n",
    "- `snippet.thumbnails.default.url`\n",
    "- `snippet.tags` \n",
    "- `contentDetails.duration`\n",
    "- `statistics.viewCount`\n",
    "- `statistics.likeCount`\n",
    "- `statistics.commentCount`\n",
    "\n",
    "Now we can define our function that extracts the video information."
   ]
  },
  {
   "cell_type": "code",
   "execution_count": 4,
   "id": "d18d4c82-de59-4764-835a-4d23f242fe1c",
   "metadata": {},
   "outputs": [],
   "source": [
    "def get_item_info(item: dict) -> dict:\n",
    "    '''Collects the relevant information from an video\n",
    "\n",
    "    Parameters\n",
    "    ----------\n",
    "    item: dict\n",
    "        Dictionary from YouTube response\n",
    "\n",
    "    Returns\n",
    "    -------\n",
    "    dict\n",
    "        Dictionary that represents a video\n",
    "    '''\n",
    "    snippet = item.get('snippet', {})\n",
    "    statistics = item.get('statistics', {})\n",
    "    \n",
    "    item_info = {}\n",
    "\n",
    "    item_info['id'] = item.get('id')\n",
    "    \n",
    "    item_info['title'] = snippet.get('title', None)\n",
    "    item_info['published_at'] = snippet.get('publishedAt', None)\n",
    "    item_info['description'] = snippet.get('description', None)\n",
    "    item_info['tags'] = snippet.get('tags', None)\n",
    "    item_info['thumbnail'] = snippet\\\n",
    "        .get('thumbnails', {})\\\n",
    "        .get('default', {})\\\n",
    "        .get('url', None)\n",
    "\n",
    "    item_info['duration'] = item.get('contentDetails', {}).get('duration', None)\n",
    "\n",
    "    item_info['view_count'] = statistics.get('viewCount', {})\n",
    "    item_info['like_count'] = statistics.get('likeCount', {})\n",
    "    item_info['comment_count'] = statistics.get('commentCount', {})\n",
    "\n",
    "    return item_info"
   ]
  },
  {
   "cell_type": "markdown",
   "id": "97a31640-05f7-4cda-8c1f-fb2edf84b8f2",
   "metadata": {},
   "source": [
    "Finnaly, we create the function to get the information for all videos in a list."
   ]
  },
  {
   "cell_type": "code",
   "execution_count": 5,
   "id": "c54b3aea-1f5d-4eb7-b8e4-688197320ea3",
   "metadata": {},
   "outputs": [],
   "source": [
    "def get_video_list_info(ids: list, chunk_size: int = 50) -> list:\n",
    "    '''Collects the relevant information from a list of video ids\n",
    "\n",
    "    Parameters\n",
    "    ----------\n",
    "    ids: list\n",
    "        List of YouTube video id\n",
    "    chunk_size: int\n",
    "        Number of ids passed to each API call\n",
    "\n",
    "    Returns\n",
    "    -------\n",
    "    list\n",
    "        List of video information, can be used by pd.DataFrame\n",
    "    '''\n",
    "    info = []\n",
    "    chunks = [ids[i:i + chunk_size] for i in range(0, len(ids), chunk_size)]\n",
    "\n",
    "    for chunk in chunks:\n",
    "        response = requests.get(videos_api(','.join(chunk)))\n",
    "\n",
    "        if response.status_code != 200:\n",
    "            raise 'YouTube has failed us'\n",
    "\n",
    "        items = response.json()['items']\n",
    "        # info = [get_item_info(item) for item in items]\n",
    "        for item in items:\n",
    "            info.append(get_item_info(item))\n",
    "\n",
    "    return info"
   ]
  },
  {
   "cell_type": "markdown",
   "id": "b1687e65-5507-4530-8947-ce4841731ef5",
   "metadata": {},
   "source": [
    "# Transcription\n",
    "\n",
    "We also want to get the transcription for each video, the following function uses the `YouTubeTranscriptAPI` to get the transcriptions."
   ]
  },
  {
   "cell_type": "code",
   "execution_count": 6,
   "id": "00203d45-6bb3-4a3d-9e43-d4f6563b0aa4",
   "metadata": {},
   "outputs": [],
   "source": [
    "def get_transcription(id: str) -> list:\n",
    "    '''Collects the transcriptions from a list of video ids\n",
    "\n",
    "    Parameters\n",
    "    ----------\n",
    "    id: str\n",
    "        YouTube video id\n",
    "\n",
    "    Returns\n",
    "    -------\n",
    "    list\n",
    "        List of dicts with text, start and duration\n",
    "    '''\n",
    "\n",
    "    try:\n",
    "        return YouTubeTranscriptApi.get_transcript(id)\n",
    "    except:\n",
    "        # Video doesn't have transcription\n",
    "        return None"
   ]
  },
  {
   "cell_type": "markdown",
   "id": "ec5a4810-5598-4c79-bf68-12aa1cdca459",
   "metadata": {},
   "source": [
    "# Channel information\n",
    "\n",
    "We will use Selenium to scrape the video ids from the channel page. When the driver appear we should scroll to the oldest video we want.\n",
    "\n",
    "This could be more automated, but since we will only do it once, there's no need to overdo it.\n",
    "\n",
    "We will gather the data for the past 2 years."
   ]
  },
  {
   "cell_type": "code",
   "execution_count": 7,
   "id": "d1bd6df3-f9ef-4354-8cac-3d1b1fe46b04",
   "metadata": {},
   "outputs": [],
   "source": [
    "ltt_channel = 'https://www.youtube.com/@LinusTechTips/videos'\n",
    "\n",
    "chrome_driver = ChromeDriverManager().install()\n",
    "driver = webdriver.Chrome(service=Service(chrome_driver))\n",
    "\n",
    "driver.get(ltt_channel)"
   ]
  },
  {
   "cell_type": "code",
   "execution_count": 8,
   "id": "57fcfb85-7dd9-407e-96fd-84e4baa2eaee",
   "metadata": {},
   "outputs": [
    {
     "name": "stdout",
     "output_type": "stream",
     "text": [
      "['8N3sFRR9-OE', '-n8N62DeNDU', 'buLyy7x2dcQ']\n",
      "We have 900 video ids\n"
     ]
    }
   ],
   "source": [
    "get_id = lambda href: parse_qs(urlparse(href).query)['v'][0]\n",
    "id_xpath = '//*[@id=\"video-title-link\"]'\n",
    "\n",
    "ids = [get_id(el.get_attribute('href')) for el in driver.find_elements(By.XPATH, id_xpath)]\n",
    "\n",
    "print(ids[:3])\n",
    "print(f'We have {len(ids)} video ids')"
   ]
  },
  {
   "cell_type": "markdown",
   "id": "40d54085-7482-4562-a12d-ac62a1f83217",
   "metadata": {},
   "source": [
    "# Creating the DataFrame"
   ]
  },
  {
   "cell_type": "markdown",
   "id": "e82f6908-5723-40f8-8023-b38853e345b1",
   "metadata": {},
   "source": [
    "First we will get the information"
   ]
  },
  {
   "cell_type": "code",
   "execution_count": 9,
   "id": "aa74a8e8-9613-45a3-83b6-7b327b85b8fb",
   "metadata": {},
   "outputs": [
    {
     "data": {
      "text/html": [
       "<div>\n",
       "<style scoped>\n",
       "    .dataframe tbody tr th:only-of-type {\n",
       "        vertical-align: middle;\n",
       "    }\n",
       "\n",
       "    .dataframe tbody tr th {\n",
       "        vertical-align: top;\n",
       "    }\n",
       "\n",
       "    .dataframe thead th {\n",
       "        text-align: right;\n",
       "    }\n",
       "</style>\n",
       "<table border=\"1\" class=\"dataframe\">\n",
       "  <thead>\n",
       "    <tr style=\"text-align: right;\">\n",
       "      <th></th>\n",
       "      <th>title</th>\n",
       "      <th>published_at</th>\n",
       "      <th>description</th>\n",
       "      <th>tags</th>\n",
       "      <th>thumbnail</th>\n",
       "      <th>duration</th>\n",
       "      <th>view_count</th>\n",
       "      <th>like_count</th>\n",
       "      <th>comment_count</th>\n",
       "    </tr>\n",
       "    <tr>\n",
       "      <th>id</th>\n",
       "      <th></th>\n",
       "      <th></th>\n",
       "      <th></th>\n",
       "      <th></th>\n",
       "      <th></th>\n",
       "      <th></th>\n",
       "      <th></th>\n",
       "      <th></th>\n",
       "      <th></th>\n",
       "    </tr>\n",
       "  </thead>\n",
       "  <tbody>\n",
       "    <tr>\n",
       "      <th>8N3sFRR9-OE</th>\n",
       "      <td>How bad is the Cheapest Laptop</td>\n",
       "      <td>2023-07-12T17:23:57Z</td>\n",
       "      <td>Check out the UGREEN Nexode 100W Charger, 145W...</td>\n",
       "      <td>[Cheapest Laptop, AliExpress]</td>\n",
       "      <td>https://i.ytimg.com/vi/8N3sFRR9-OE/default.jpg</td>\n",
       "      <td>PT23M49S</td>\n",
       "      <td>453842</td>\n",
       "      <td>25856</td>\n",
       "      <td>1891</td>\n",
       "    </tr>\n",
       "    <tr>\n",
       "      <th>-n8N62DeNDU</th>\n",
       "      <td>WHY is Everyone Buying This Power Supply??</td>\n",
       "      <td>2023-07-11T17:03:27Z</td>\n",
       "      <td>Checkout iFixit's toolkits at: https://www.iFi...</td>\n",
       "      <td>[Power Supply, PSU Tester, Thermaltake Smart 6...</td>\n",
       "      <td>https://i.ytimg.com/vi/-n8N62DeNDU/default.jpg</td>\n",
       "      <td>PT14M39S</td>\n",
       "      <td>1116918</td>\n",
       "      <td>51871</td>\n",
       "      <td>2983</td>\n",
       "    </tr>\n",
       "    <tr>\n",
       "      <th>buLyy7x2dcQ</th>\n",
       "      <td>Apple fans, start typing your angry comments now…</td>\n",
       "      <td>2023-07-10T18:14:04Z</td>\n",
       "      <td>Check out the UGREEN PowerRoam 1200W, 145W Pow...</td>\n",
       "      <td>[apple, mac, mac studio, apple silicon, m2, m2...</td>\n",
       "      <td>https://i.ytimg.com/vi/buLyy7x2dcQ/default.jpg</td>\n",
       "      <td>PT18M25S</td>\n",
       "      <td>1728263</td>\n",
       "      <td>70674</td>\n",
       "      <td>4720</td>\n",
       "    </tr>\n",
       "    <tr>\n",
       "      <th>H5e3ALqgpaA</th>\n",
       "      <td>I said YES to everything… I regret it</td>\n",
       "      <td>2023-07-09T17:20:35Z</td>\n",
       "      <td>Visit https://www.squarespace.com/LTT and use ...</td>\n",
       "      <td>[saying yes, roundup, tech, assorted, cuktech,...</td>\n",
       "      <td>https://i.ytimg.com/vi/H5e3ALqgpaA/default.jpg</td>\n",
       "      <td>PT26M11S</td>\n",
       "      <td>1823313</td>\n",
       "      <td>76297</td>\n",
       "      <td>3044</td>\n",
       "    </tr>\n",
       "    <tr>\n",
       "      <th>P32OKr74NPQ</th>\n",
       "      <td>Upgrading our FREE internet to 25 gigabit!</td>\n",
       "      <td>2023-07-08T17:00:29Z</td>\n",
       "      <td>It’s no secret their chairs are great! Check o...</td>\n",
       "      <td>None</td>\n",
       "      <td>https://i.ytimg.com/vi/P32OKr74NPQ/default.jpg</td>\n",
       "      <td>PT32M19S</td>\n",
       "      <td>1835615</td>\n",
       "      <td>68739</td>\n",
       "      <td>2771</td>\n",
       "    </tr>\n",
       "  </tbody>\n",
       "</table>\n",
       "</div>"
      ],
      "text/plain": [
       "                                                         title  \\\n",
       "id                                                               \n",
       "8N3sFRR9-OE                     How bad is the Cheapest Laptop   \n",
       "-n8N62DeNDU         WHY is Everyone Buying This Power Supply??   \n",
       "buLyy7x2dcQ  Apple fans, start typing your angry comments now…   \n",
       "H5e3ALqgpaA              I said YES to everything… I regret it   \n",
       "P32OKr74NPQ         Upgrading our FREE internet to 25 gigabit!   \n",
       "\n",
       "                     published_at  \\\n",
       "id                                  \n",
       "8N3sFRR9-OE  2023-07-12T17:23:57Z   \n",
       "-n8N62DeNDU  2023-07-11T17:03:27Z   \n",
       "buLyy7x2dcQ  2023-07-10T18:14:04Z   \n",
       "H5e3ALqgpaA  2023-07-09T17:20:35Z   \n",
       "P32OKr74NPQ  2023-07-08T17:00:29Z   \n",
       "\n",
       "                                                   description  \\\n",
       "id                                                               \n",
       "8N3sFRR9-OE  Check out the UGREEN Nexode 100W Charger, 145W...   \n",
       "-n8N62DeNDU  Checkout iFixit's toolkits at: https://www.iFi...   \n",
       "buLyy7x2dcQ  Check out the UGREEN PowerRoam 1200W, 145W Pow...   \n",
       "H5e3ALqgpaA  Visit https://www.squarespace.com/LTT and use ...   \n",
       "P32OKr74NPQ  It’s no secret their chairs are great! Check o...   \n",
       "\n",
       "                                                          tags  \\\n",
       "id                                                               \n",
       "8N3sFRR9-OE                      [Cheapest Laptop, AliExpress]   \n",
       "-n8N62DeNDU  [Power Supply, PSU Tester, Thermaltake Smart 6...   \n",
       "buLyy7x2dcQ  [apple, mac, mac studio, apple silicon, m2, m2...   \n",
       "H5e3ALqgpaA  [saying yes, roundup, tech, assorted, cuktech,...   \n",
       "P32OKr74NPQ                                               None   \n",
       "\n",
       "                                                  thumbnail  duration  \\\n",
       "id                                                                      \n",
       "8N3sFRR9-OE  https://i.ytimg.com/vi/8N3sFRR9-OE/default.jpg  PT23M49S   \n",
       "-n8N62DeNDU  https://i.ytimg.com/vi/-n8N62DeNDU/default.jpg  PT14M39S   \n",
       "buLyy7x2dcQ  https://i.ytimg.com/vi/buLyy7x2dcQ/default.jpg  PT18M25S   \n",
       "H5e3ALqgpaA  https://i.ytimg.com/vi/H5e3ALqgpaA/default.jpg  PT26M11S   \n",
       "P32OKr74NPQ  https://i.ytimg.com/vi/P32OKr74NPQ/default.jpg  PT32M19S   \n",
       "\n",
       "            view_count like_count comment_count  \n",
       "id                                               \n",
       "8N3sFRR9-OE     453842      25856          1891  \n",
       "-n8N62DeNDU    1116918      51871          2983  \n",
       "buLyy7x2dcQ    1728263      70674          4720  \n",
       "H5e3ALqgpaA    1823313      76297          3044  \n",
       "P32OKr74NPQ    1835615      68739          2771  "
      ]
     },
     "execution_count": 9,
     "metadata": {},
     "output_type": "execute_result"
    }
   ],
   "source": [
    "video_info = pd.DataFrame(get_video_list_info(ids)).set_index('id')\n",
    "\n",
    "video_info.head()"
   ]
  },
  {
   "cell_type": "code",
   "execution_count": 10,
   "id": "d727e63d-23cb-41a8-ad27-e44bcbf01b89",
   "metadata": {},
   "outputs": [],
   "source": [
    "assert len(video_info) == len(ids), 'DataFrame and ids should have the same size'"
   ]
  },
  {
   "cell_type": "markdown",
   "id": "f4d89e72-9cea-4235-920b-69e30524db0c",
   "metadata": {},
   "source": [
    "Now we get the transcriptions.\n",
    "\n",
    "The transcription API does ~1 video/sec*, so this takes a while for a lot of videos. As it is a one time thing, I'll not try to optimize this step.\n",
    "\n",
    "\\* There's a `get_transcripts` method, but it seems to do it serialized, too"
   ]
  },
  {
   "cell_type": "code",
   "execution_count": 12,
   "id": "4c3b7514-5f6d-4f82-953d-632f416bb8b5",
   "metadata": {},
   "outputs": [
    {
     "name": "stderr",
     "output_type": "stream",
     "text": [
      "100%|██████████████████████████████████████████████████████████████████████████████| 900/900 [15:03<00:00,  1.00s/it]\n"
     ]
    }
   ],
   "source": [
    "transcriptions = [{\n",
    "    'id': id,\n",
    "    'transcription': get_transcription(id)\n",
    "} for id in tqdm(ids)]"
   ]
  },
  {
   "cell_type": "code",
   "execution_count": 13,
   "id": "8c301eaa-bf96-4a82-b5d3-66e2cb9f236d",
   "metadata": {},
   "outputs": [
    {
     "data": {
      "text/html": [
       "<div>\n",
       "<style scoped>\n",
       "    .dataframe tbody tr th:only-of-type {\n",
       "        vertical-align: middle;\n",
       "    }\n",
       "\n",
       "    .dataframe tbody tr th {\n",
       "        vertical-align: top;\n",
       "    }\n",
       "\n",
       "    .dataframe thead th {\n",
       "        text-align: right;\n",
       "    }\n",
       "</style>\n",
       "<table border=\"1\" class=\"dataframe\">\n",
       "  <thead>\n",
       "    <tr style=\"text-align: right;\">\n",
       "      <th></th>\n",
       "      <th>transcription</th>\n",
       "    </tr>\n",
       "    <tr>\n",
       "      <th>id</th>\n",
       "      <th></th>\n",
       "    </tr>\n",
       "  </thead>\n",
       "  <tbody>\n",
       "    <tr>\n",
       "      <th>8N3sFRR9-OE</th>\n",
       "      <td>[{'text': 'I've got something I want to show y...</td>\n",
       "    </tr>\n",
       "    <tr>\n",
       "      <th>-n8N62DeNDU</th>\n",
       "      <td>[{'text': 'this is the most popular power supp...</td>\n",
       "    </tr>\n",
       "    <tr>\n",
       "      <th>buLyy7x2dcQ</th>\n",
       "      <td>[{'text': 'I really did try this time guys I e...</td>\n",
       "    </tr>\n",
       "    <tr>\n",
       "      <th>H5e3ALqgpaA</th>\n",
       "      <td>[{'text': 'my inbox is full of opportunities t...</td>\n",
       "    </tr>\n",
       "    <tr>\n",
       "      <th>P32OKr74NPQ</th>\n",
       "      <td>[{'text': 'when we expanded our space to give ...</td>\n",
       "    </tr>\n",
       "  </tbody>\n",
       "</table>\n",
       "</div>"
      ],
      "text/plain": [
       "                                                 transcription\n",
       "id                                                            \n",
       "8N3sFRR9-OE  [{'text': 'I've got something I want to show y...\n",
       "-n8N62DeNDU  [{'text': 'this is the most popular power supp...\n",
       "buLyy7x2dcQ  [{'text': 'I really did try this time guys I e...\n",
       "H5e3ALqgpaA  [{'text': 'my inbox is full of opportunities t...\n",
       "P32OKr74NPQ  [{'text': 'when we expanded our space to give ..."
      ]
     },
     "execution_count": 13,
     "metadata": {},
     "output_type": "execute_result"
    }
   ],
   "source": [
    "video_transcription = pd.DataFrame(transcriptions).set_index('id')\n",
    "\n",
    "video_transcription.head()"
   ]
  },
  {
   "cell_type": "code",
   "execution_count": 14,
   "id": "fbbb3664-1eaf-48dc-b3f1-4d87d8cb60c7",
   "metadata": {},
   "outputs": [],
   "source": [
    "assert len(video_transcription) == len(ids), 'DataFrame and ids should have the same size'"
   ]
  },
  {
   "cell_type": "markdown",
   "id": "33ff1e2b-ed31-4716-bffc-fe1416526e08",
   "metadata": {},
   "source": [
    "Finally we can merge and export the DataFrame. We will export with pickle just to keep the `transcription` format."
   ]
  },
  {
   "cell_type": "code",
   "execution_count": 15,
   "id": "f64b6d1e-c956-4ac9-8dbb-344990ef48f9",
   "metadata": {},
   "outputs": [
    {
     "data": {
      "text/html": [
       "<div>\n",
       "<style scoped>\n",
       "    .dataframe tbody tr th:only-of-type {\n",
       "        vertical-align: middle;\n",
       "    }\n",
       "\n",
       "    .dataframe tbody tr th {\n",
       "        vertical-align: top;\n",
       "    }\n",
       "\n",
       "    .dataframe thead th {\n",
       "        text-align: right;\n",
       "    }\n",
       "</style>\n",
       "<table border=\"1\" class=\"dataframe\">\n",
       "  <thead>\n",
       "    <tr style=\"text-align: right;\">\n",
       "      <th></th>\n",
       "      <th>title</th>\n",
       "      <th>published_at</th>\n",
       "      <th>description</th>\n",
       "      <th>tags</th>\n",
       "      <th>thumbnail</th>\n",
       "      <th>duration</th>\n",
       "      <th>view_count</th>\n",
       "      <th>like_count</th>\n",
       "      <th>comment_count</th>\n",
       "      <th>transcription</th>\n",
       "    </tr>\n",
       "    <tr>\n",
       "      <th>id</th>\n",
       "      <th></th>\n",
       "      <th></th>\n",
       "      <th></th>\n",
       "      <th></th>\n",
       "      <th></th>\n",
       "      <th></th>\n",
       "      <th></th>\n",
       "      <th></th>\n",
       "      <th></th>\n",
       "      <th></th>\n",
       "    </tr>\n",
       "  </thead>\n",
       "  <tbody>\n",
       "    <tr>\n",
       "      <th>8N3sFRR9-OE</th>\n",
       "      <td>How bad is the Cheapest Laptop</td>\n",
       "      <td>2023-07-12T17:23:57Z</td>\n",
       "      <td>Check out the UGREEN Nexode 100W Charger, 145W...</td>\n",
       "      <td>[Cheapest Laptop, AliExpress]</td>\n",
       "      <td>https://i.ytimg.com/vi/8N3sFRR9-OE/default.jpg</td>\n",
       "      <td>PT23M49S</td>\n",
       "      <td>453842</td>\n",
       "      <td>25856</td>\n",
       "      <td>1891</td>\n",
       "      <td>[{'text': 'I've got something I want to show y...</td>\n",
       "    </tr>\n",
       "    <tr>\n",
       "      <th>-n8N62DeNDU</th>\n",
       "      <td>WHY is Everyone Buying This Power Supply??</td>\n",
       "      <td>2023-07-11T17:03:27Z</td>\n",
       "      <td>Checkout iFixit's toolkits at: https://www.iFi...</td>\n",
       "      <td>[Power Supply, PSU Tester, Thermaltake Smart 6...</td>\n",
       "      <td>https://i.ytimg.com/vi/-n8N62DeNDU/default.jpg</td>\n",
       "      <td>PT14M39S</td>\n",
       "      <td>1116918</td>\n",
       "      <td>51871</td>\n",
       "      <td>2983</td>\n",
       "      <td>[{'text': 'this is the most popular power supp...</td>\n",
       "    </tr>\n",
       "    <tr>\n",
       "      <th>buLyy7x2dcQ</th>\n",
       "      <td>Apple fans, start typing your angry comments now…</td>\n",
       "      <td>2023-07-10T18:14:04Z</td>\n",
       "      <td>Check out the UGREEN PowerRoam 1200W, 145W Pow...</td>\n",
       "      <td>[apple, mac, mac studio, apple silicon, m2, m2...</td>\n",
       "      <td>https://i.ytimg.com/vi/buLyy7x2dcQ/default.jpg</td>\n",
       "      <td>PT18M25S</td>\n",
       "      <td>1728263</td>\n",
       "      <td>70674</td>\n",
       "      <td>4720</td>\n",
       "      <td>[{'text': 'I really did try this time guys I e...</td>\n",
       "    </tr>\n",
       "    <tr>\n",
       "      <th>H5e3ALqgpaA</th>\n",
       "      <td>I said YES to everything… I regret it</td>\n",
       "      <td>2023-07-09T17:20:35Z</td>\n",
       "      <td>Visit https://www.squarespace.com/LTT and use ...</td>\n",
       "      <td>[saying yes, roundup, tech, assorted, cuktech,...</td>\n",
       "      <td>https://i.ytimg.com/vi/H5e3ALqgpaA/default.jpg</td>\n",
       "      <td>PT26M11S</td>\n",
       "      <td>1823313</td>\n",
       "      <td>76297</td>\n",
       "      <td>3044</td>\n",
       "      <td>[{'text': 'my inbox is full of opportunities t...</td>\n",
       "    </tr>\n",
       "    <tr>\n",
       "      <th>P32OKr74NPQ</th>\n",
       "      <td>Upgrading our FREE internet to 25 gigabit!</td>\n",
       "      <td>2023-07-08T17:00:29Z</td>\n",
       "      <td>It’s no secret their chairs are great! Check o...</td>\n",
       "      <td>None</td>\n",
       "      <td>https://i.ytimg.com/vi/P32OKr74NPQ/default.jpg</td>\n",
       "      <td>PT32M19S</td>\n",
       "      <td>1835615</td>\n",
       "      <td>68739</td>\n",
       "      <td>2771</td>\n",
       "      <td>[{'text': 'when we expanded our space to give ...</td>\n",
       "    </tr>\n",
       "  </tbody>\n",
       "</table>\n",
       "</div>"
      ],
      "text/plain": [
       "                                                         title  \\\n",
       "id                                                               \n",
       "8N3sFRR9-OE                     How bad is the Cheapest Laptop   \n",
       "-n8N62DeNDU         WHY is Everyone Buying This Power Supply??   \n",
       "buLyy7x2dcQ  Apple fans, start typing your angry comments now…   \n",
       "H5e3ALqgpaA              I said YES to everything… I regret it   \n",
       "P32OKr74NPQ         Upgrading our FREE internet to 25 gigabit!   \n",
       "\n",
       "                     published_at  \\\n",
       "id                                  \n",
       "8N3sFRR9-OE  2023-07-12T17:23:57Z   \n",
       "-n8N62DeNDU  2023-07-11T17:03:27Z   \n",
       "buLyy7x2dcQ  2023-07-10T18:14:04Z   \n",
       "H5e3ALqgpaA  2023-07-09T17:20:35Z   \n",
       "P32OKr74NPQ  2023-07-08T17:00:29Z   \n",
       "\n",
       "                                                   description  \\\n",
       "id                                                               \n",
       "8N3sFRR9-OE  Check out the UGREEN Nexode 100W Charger, 145W...   \n",
       "-n8N62DeNDU  Checkout iFixit's toolkits at: https://www.iFi...   \n",
       "buLyy7x2dcQ  Check out the UGREEN PowerRoam 1200W, 145W Pow...   \n",
       "H5e3ALqgpaA  Visit https://www.squarespace.com/LTT and use ...   \n",
       "P32OKr74NPQ  It’s no secret their chairs are great! Check o...   \n",
       "\n",
       "                                                          tags  \\\n",
       "id                                                               \n",
       "8N3sFRR9-OE                      [Cheapest Laptop, AliExpress]   \n",
       "-n8N62DeNDU  [Power Supply, PSU Tester, Thermaltake Smart 6...   \n",
       "buLyy7x2dcQ  [apple, mac, mac studio, apple silicon, m2, m2...   \n",
       "H5e3ALqgpaA  [saying yes, roundup, tech, assorted, cuktech,...   \n",
       "P32OKr74NPQ                                               None   \n",
       "\n",
       "                                                  thumbnail  duration  \\\n",
       "id                                                                      \n",
       "8N3sFRR9-OE  https://i.ytimg.com/vi/8N3sFRR9-OE/default.jpg  PT23M49S   \n",
       "-n8N62DeNDU  https://i.ytimg.com/vi/-n8N62DeNDU/default.jpg  PT14M39S   \n",
       "buLyy7x2dcQ  https://i.ytimg.com/vi/buLyy7x2dcQ/default.jpg  PT18M25S   \n",
       "H5e3ALqgpaA  https://i.ytimg.com/vi/H5e3ALqgpaA/default.jpg  PT26M11S   \n",
       "P32OKr74NPQ  https://i.ytimg.com/vi/P32OKr74NPQ/default.jpg  PT32M19S   \n",
       "\n",
       "            view_count like_count comment_count  \\\n",
       "id                                                \n",
       "8N3sFRR9-OE     453842      25856          1891   \n",
       "-n8N62DeNDU    1116918      51871          2983   \n",
       "buLyy7x2dcQ    1728263      70674          4720   \n",
       "H5e3ALqgpaA    1823313      76297          3044   \n",
       "P32OKr74NPQ    1835615      68739          2771   \n",
       "\n",
       "                                                 transcription  \n",
       "id                                                              \n",
       "8N3sFRR9-OE  [{'text': 'I've got something I want to show y...  \n",
       "-n8N62DeNDU  [{'text': 'this is the most popular power supp...  \n",
       "buLyy7x2dcQ  [{'text': 'I really did try this time guys I e...  \n",
       "H5e3ALqgpaA  [{'text': 'my inbox is full of opportunities t...  \n",
       "P32OKr74NPQ  [{'text': 'when we expanded our space to give ...  "
      ]
     },
     "execution_count": 15,
     "metadata": {},
     "output_type": "execute_result"
    }
   ],
   "source": [
    "raw = video_info.join(video_transcription)\n",
    "\n",
    "with open('data/raw.pkl', 'wb') as f:\n",
    "    pickle.dump(raw, f)\n",
    "\n",
    "raw.head()"
   ]
  },
  {
   "cell_type": "code",
   "execution_count": 16,
   "id": "5a1aa34f-edcd-49be-9a7d-e18e0a160401",
   "metadata": {},
   "outputs": [
    {
     "data": {
      "text/plain": [
       "(900, 10)"
      ]
     },
     "execution_count": 16,
     "metadata": {},
     "output_type": "execute_result"
    }
   ],
   "source": [
    "raw.shape"
   ]
  }
 ],
 "metadata": {
  "kernelspec": {
   "display_name": "google-capstone",
   "language": "python",
   "name": "google-capstone"
  },
  "language_info": {
   "codemirror_mode": {
    "name": "ipython",
    "version": 3
   },
   "file_extension": ".py",
   "mimetype": "text/x-python",
   "name": "python",
   "nbconvert_exporter": "python",
   "pygments_lexer": "ipython3",
   "version": "3.11.3"
  }
 },
 "nbformat": 4,
 "nbformat_minor": 5
}
